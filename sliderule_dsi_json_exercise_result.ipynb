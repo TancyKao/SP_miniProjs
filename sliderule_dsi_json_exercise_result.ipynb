{
 "cells": [
  {
   "cell_type": "markdown",
   "metadata": {},
   "source": [
    "****\n",
    "## JSON exercise\n",
    "\n",
    "Using data in file 'data/world_bank_projects.json' and the techniques demonstrated above,\n",
    "1. Find the 10 countries with most projects\n",
    "2. Find the top 10 major project themes (using column 'mjtheme_namecode')\n",
    "3. In 2. above you will notice that some entries have only the code and the name is missing. Create a dataframe with the missing names filled in."
   ]
  },
  {
   "cell_type": "code",
   "execution_count": 1,
   "metadata": {
    "collapsed": true,
    "scrolled": false
   },
   "outputs": [],
   "source": [
    "import pandas as pd\n",
    "import numpy as np\n",
    "import json"
   ]
  },
  {
   "cell_type": "code",
   "execution_count": 2,
   "metadata": {
    "collapsed": false,
    "scrolled": false
   },
   "outputs": [
    {
     "data": {
      "text/html": [
       "<div>\n",
       "<table border=\"1\" class=\"dataframe\">\n",
       "  <thead>\n",
       "    <tr style=\"text-align: right;\">\n",
       "      <th></th>\n",
       "      <th>_id</th>\n",
       "      <th>approvalfy</th>\n",
       "      <th>board_approval_month</th>\n",
       "      <th>boardapprovaldate</th>\n",
       "      <th>borrower</th>\n",
       "      <th>closingdate</th>\n",
       "      <th>country_namecode</th>\n",
       "      <th>countrycode</th>\n",
       "      <th>countryname</th>\n",
       "      <th>countryshortname</th>\n",
       "      <th>...</th>\n",
       "      <th>sectorcode</th>\n",
       "      <th>source</th>\n",
       "      <th>status</th>\n",
       "      <th>supplementprojectflg</th>\n",
       "      <th>theme1</th>\n",
       "      <th>theme_namecode</th>\n",
       "      <th>themecode</th>\n",
       "      <th>totalamt</th>\n",
       "      <th>totalcommamt</th>\n",
       "      <th>url</th>\n",
       "    </tr>\n",
       "  </thead>\n",
       "  <tbody>\n",
       "    <tr>\n",
       "      <th>0</th>\n",
       "      <td>{'$oid': '52b213b38594d8a2be17c780'}</td>\n",
       "      <td>1999</td>\n",
       "      <td>November</td>\n",
       "      <td>2013-11-12T00:00:00Z</td>\n",
       "      <td>FEDERAL DEMOCRATIC REPUBLIC OF ETHIOPIA</td>\n",
       "      <td>2018-07-07T00:00:00Z</td>\n",
       "      <td>Federal Democratic Republic of Ethiopia!$!ET</td>\n",
       "      <td>ET</td>\n",
       "      <td>Federal Democratic Republic of Ethiopia</td>\n",
       "      <td>Ethiopia</td>\n",
       "      <td>...</td>\n",
       "      <td>ET,BS,ES,EP</td>\n",
       "      <td>IBRD</td>\n",
       "      <td>Active</td>\n",
       "      <td>N</td>\n",
       "      <td>{'Name': 'Education for all', 'Percent': 100}</td>\n",
       "      <td>[{'name': 'Education for all', 'code': '65'}]</td>\n",
       "      <td>65</td>\n",
       "      <td>130000000</td>\n",
       "      <td>130000000</td>\n",
       "      <td>http://www.worldbank.org/projects/P129828/ethi...</td>\n",
       "    </tr>\n",
       "    <tr>\n",
       "      <th>1</th>\n",
       "      <td>{'$oid': '52b213b38594d8a2be17c781'}</td>\n",
       "      <td>2015</td>\n",
       "      <td>November</td>\n",
       "      <td>2013-11-04T00:00:00Z</td>\n",
       "      <td>GOVERNMENT OF TUNISIA</td>\n",
       "      <td>NaN</td>\n",
       "      <td>Republic of Tunisia!$!TN</td>\n",
       "      <td>TN</td>\n",
       "      <td>Republic of Tunisia</td>\n",
       "      <td>Tunisia</td>\n",
       "      <td>...</td>\n",
       "      <td>BZ,BS</td>\n",
       "      <td>IBRD</td>\n",
       "      <td>Active</td>\n",
       "      <td>N</td>\n",
       "      <td>{'Name': 'Other economic management', 'Percent...</td>\n",
       "      <td>[{'name': 'Other economic management', 'code':...</td>\n",
       "      <td>54,24</td>\n",
       "      <td>0</td>\n",
       "      <td>4700000</td>\n",
       "      <td>http://www.worldbank.org/projects/P144674?lang=en</td>\n",
       "    </tr>\n",
       "    <tr>\n",
       "      <th>2</th>\n",
       "      <td>{'$oid': '52b213b38594d8a2be17c782'}</td>\n",
       "      <td>2014</td>\n",
       "      <td>November</td>\n",
       "      <td>2013-11-01T00:00:00Z</td>\n",
       "      <td>MINISTRY OF FINANCE AND ECONOMIC DEVEL</td>\n",
       "      <td>NaN</td>\n",
       "      <td>Tuvalu!$!TV</td>\n",
       "      <td>TV</td>\n",
       "      <td>Tuvalu</td>\n",
       "      <td>Tuvalu</td>\n",
       "      <td>...</td>\n",
       "      <td>TI</td>\n",
       "      <td>IBRD</td>\n",
       "      <td>Active</td>\n",
       "      <td>Y</td>\n",
       "      <td>{'Name': 'Regional integration', 'Percent': 46}</td>\n",
       "      <td>[{'name': 'Regional integration', 'code': '47'...</td>\n",
       "      <td>52,81,25,47</td>\n",
       "      <td>6060000</td>\n",
       "      <td>6060000</td>\n",
       "      <td>http://www.worldbank.org/projects/P145310?lang=en</td>\n",
       "    </tr>\n",
       "  </tbody>\n",
       "</table>\n",
       "<p>3 rows × 50 columns</p>\n",
       "</div>"
      ],
      "text/plain": [
       "                                    _id  approvalfy board_approval_month  \\\n",
       "0  {'$oid': '52b213b38594d8a2be17c780'}        1999             November   \n",
       "1  {'$oid': '52b213b38594d8a2be17c781'}        2015             November   \n",
       "2  {'$oid': '52b213b38594d8a2be17c782'}        2014             November   \n",
       "\n",
       "      boardapprovaldate                                 borrower  \\\n",
       "0  2013-11-12T00:00:00Z  FEDERAL DEMOCRATIC REPUBLIC OF ETHIOPIA   \n",
       "1  2013-11-04T00:00:00Z                    GOVERNMENT OF TUNISIA   \n",
       "2  2013-11-01T00:00:00Z   MINISTRY OF FINANCE AND ECONOMIC DEVEL   \n",
       "\n",
       "            closingdate                              country_namecode  \\\n",
       "0  2018-07-07T00:00:00Z  Federal Democratic Republic of Ethiopia!$!ET   \n",
       "1                   NaN                      Republic of Tunisia!$!TN   \n",
       "2                   NaN                                   Tuvalu!$!TV   \n",
       "\n",
       "  countrycode                              countryname countryshortname  \\\n",
       "0          ET  Federal Democratic Republic of Ethiopia         Ethiopia   \n",
       "1          TN                      Republic of Tunisia          Tunisia   \n",
       "2          TV                                   Tuvalu           Tuvalu   \n",
       "\n",
       "                         ...                           sectorcode source  \\\n",
       "0                        ...                          ET,BS,ES,EP   IBRD   \n",
       "1                        ...                                BZ,BS   IBRD   \n",
       "2                        ...                                   TI   IBRD   \n",
       "\n",
       "   status  supplementprojectflg  \\\n",
       "0  Active                     N   \n",
       "1  Active                     N   \n",
       "2  Active                     Y   \n",
       "\n",
       "                                              theme1  \\\n",
       "0      {'Name': 'Education for all', 'Percent': 100}   \n",
       "1  {'Name': 'Other economic management', 'Percent...   \n",
       "2    {'Name': 'Regional integration', 'Percent': 46}   \n",
       "\n",
       "                                      theme_namecode    themecode   totalamt  \\\n",
       "0      [{'name': 'Education for all', 'code': '65'}]           65  130000000   \n",
       "1  [{'name': 'Other economic management', 'code':...        54,24          0   \n",
       "2  [{'name': 'Regional integration', 'code': '47'...  52,81,25,47    6060000   \n",
       "\n",
       "  totalcommamt                                                url  \n",
       "0    130000000  http://www.worldbank.org/projects/P129828/ethi...  \n",
       "1      4700000  http://www.worldbank.org/projects/P144674?lang=en  \n",
       "2      6060000  http://www.worldbank.org/projects/P145310?lang=en  \n",
       "\n",
       "[3 rows x 50 columns]"
      ]
     },
     "execution_count": 2,
     "metadata": {},
     "output_type": "execute_result"
    }
   ],
   "source": [
    "sample_json_df = pd.read_json('/Users/tancy/dropbox/iPythonFolder/data_wrangling_json/data/world_bank_projects.json')\n",
    "sample_json_df.head(3)"
   ]
  },
  {
   "cell_type": "code",
   "execution_count": null,
   "metadata": {
    "collapsed": false,
    "scrolled": true
   },
   "outputs": [],
   "source": [
    "#sample_json_df.columns"
   ]
  },
  {
   "cell_type": "code",
   "execution_count": 3,
   "metadata": {
    "collapsed": false,
    "scrolled": false
   },
   "outputs": [
    {
     "data": {
      "text/plain": [
       "False"
      ]
     },
     "execution_count": 3,
     "metadata": {},
     "output_type": "execute_result"
    }
   ],
   "source": [
    "# extract necessary columns\n",
    "sample_countries = sample_json_df[['countrycode','countryname','themecode']]\n",
    "\n",
    "# check whether blank in themecode\n",
    "sample_countries.empty"
   ]
  },
  {
   "cell_type": "code",
   "execution_count": 4,
   "metadata": {
    "collapsed": false,
    "scrolled": true
   },
   "outputs": [
    {
     "data": {
      "text/html": [
       "<div>\n",
       "<table border=\"1\" class=\"dataframe\">\n",
       "  <thead>\n",
       "    <tr style=\"text-align: right;\">\n",
       "      <th></th>\n",
       "      <th>newthemecode</th>\n",
       "    </tr>\n",
       "    <tr>\n",
       "      <th>countryname</th>\n",
       "      <th></th>\n",
       "    </tr>\n",
       "  </thead>\n",
       "  <tbody>\n",
       "    <tr>\n",
       "      <th>Republic of Indonesia</th>\n",
       "      <td>52</td>\n",
       "    </tr>\n",
       "    <tr>\n",
       "      <th>Republic of India</th>\n",
       "      <td>50</td>\n",
       "    </tr>\n",
       "    <tr>\n",
       "      <th>Federative Republic of Brazil</th>\n",
       "      <td>41</td>\n",
       "    </tr>\n",
       "    <tr>\n",
       "      <th>People's Republic of Bangladesh</th>\n",
       "      <td>40</td>\n",
       "    </tr>\n",
       "    <tr>\n",
       "      <th>Africa</th>\n",
       "      <td>38</td>\n",
       "    </tr>\n",
       "    <tr>\n",
       "      <th>Socialist Republic of Vietnam</th>\n",
       "      <td>34</td>\n",
       "    </tr>\n",
       "    <tr>\n",
       "      <th>People's Republic of China</th>\n",
       "      <td>32</td>\n",
       "    </tr>\n",
       "    <tr>\n",
       "      <th>Kingdom of Morocco</th>\n",
       "      <td>30</td>\n",
       "    </tr>\n",
       "    <tr>\n",
       "      <th>Republic of Yemen</th>\n",
       "      <td>30</td>\n",
       "    </tr>\n",
       "    <tr>\n",
       "      <th>Republic of Mozambique</th>\n",
       "      <td>29</td>\n",
       "    </tr>\n",
       "  </tbody>\n",
       "</table>\n",
       "</div>"
      ],
      "text/plain": [
       "                                 newthemecode\n",
       "countryname                                  \n",
       "Republic of Indonesia                      52\n",
       "Republic of India                          50\n",
       "Federative Republic of Brazil              41\n",
       "People's Republic of Bangladesh            40\n",
       "Africa                                     38\n",
       "Socialist Republic of Vietnam              34\n",
       "People's Republic of China                 32\n",
       "Kingdom of Morocco                         30\n",
       "Republic of Yemen                          30\n",
       "Republic of Mozambique                     29"
      ]
     },
     "execution_count": 4,
     "metadata": {},
     "output_type": "execute_result"
    }
   ],
   "source": [
    "# split multiple values of cell in themecode for each country\n",
    "newthemecode = sample_countries.themecode.str.split(',').apply(pd.Series, 1).stack()\n",
    "newthemecode.index = newthemecode.index.droplevel(-1)\n",
    "\n",
    "# merge new sample_countries and newthemecode\n",
    "countrytheme = sample_countries.join(pd.DataFrame(newthemecode))\n",
    "\n",
    "# rename the new column\n",
    "countrytheme = countrytheme.rename(columns={0: 'newthemecode'})\n",
    "\n",
    "# count the number of themes of countries\n",
    "countrythemeCount = countrytheme.groupby('countryname')[['newthemecode']].count()\n",
    "\n",
    "# select most themes\n",
    "countrythemeCount.sort_values(by ='newthemecode', ascending = False).head(10)\n"
   ]
  },
  {
   "cell_type": "markdown",
   "metadata": {
    "collapsed": true
   },
   "source": [
    "****\n",
    "Find the top 10 major project themes (using column 'mjtheme_namecode')\n",
    "In 2. above you will notice that some entries have only the code and the name is missing. \n",
    "Create a dataframe with the missing names filled in."
   ]
  },
  {
   "cell_type": "code",
   "execution_count": 5,
   "metadata": {
    "collapsed": false,
    "scrolled": true
   },
   "outputs": [],
   "source": [
    "# # get mjtheme_namecode as DataFrame\n",
    "Stheme = pd.DataFrame(sample_json_df.mjtheme_namecode)\n",
    "\n",
    "# # split series in mjtheme_namecode\n",
    "Stheme1 = Stheme['mjtheme_namecode'].apply(pd.Series)\n",
    "\n",
    "#converting DataFrames from \"wide\" to \"long\" format\n",
    "Stheme_long = pd.melt(Stheme1) "
   ]
  },
  {
   "cell_type": "code",
   "execution_count": 6,
   "metadata": {
    "collapsed": false,
    "scrolled": false
   },
   "outputs": [
    {
     "data": {
      "text/html": [
       "<div>\n",
       "<table border=\"1\" class=\"dataframe\">\n",
       "  <thead>\n",
       "    <tr style=\"text-align: right;\">\n",
       "      <th></th>\n",
       "      <th>variable</th>\n",
       "      <th>value</th>\n",
       "    </tr>\n",
       "  </thead>\n",
       "  <tbody>\n",
       "    <tr>\n",
       "      <th>0</th>\n",
       "      <td>0</td>\n",
       "      <td>{'name': 'Human development', 'code': '8'}</td>\n",
       "    </tr>\n",
       "    <tr>\n",
       "      <th>1</th>\n",
       "      <td>0</td>\n",
       "      <td>{'name': 'Economic management', 'code': '1'}</td>\n",
       "    </tr>\n",
       "    <tr>\n",
       "      <th>2</th>\n",
       "      <td>0</td>\n",
       "      <td>{'name': 'Trade and integration', 'code': '5'}</td>\n",
       "    </tr>\n",
       "    <tr>\n",
       "      <th>3</th>\n",
       "      <td>0</td>\n",
       "      <td>{'name': 'Social dev/gender/inclusion', 'code'...</td>\n",
       "    </tr>\n",
       "    <tr>\n",
       "      <th>4</th>\n",
       "      <td>0</td>\n",
       "      <td>{'name': 'Trade and integration', 'code': '5'}</td>\n",
       "    </tr>\n",
       "  </tbody>\n",
       "</table>\n",
       "</div>"
      ],
      "text/plain": [
       "   variable                                              value\n",
       "0         0         {'name': 'Human development', 'code': '8'}\n",
       "1         0       {'name': 'Economic management', 'code': '1'}\n",
       "2         0     {'name': 'Trade and integration', 'code': '5'}\n",
       "3         0  {'name': 'Social dev/gender/inclusion', 'code'...\n",
       "4         0     {'name': 'Trade and integration', 'code': '5'}"
      ]
     },
     "execution_count": 6,
     "metadata": {},
     "output_type": "execute_result"
    }
   ],
   "source": [
    "# check whether NaN in data\n",
    "Stheme_long.isnull().any()\n",
    "\n",
    "\n",
    "# remove row contains NAN\n",
    "Stheme_long = Stheme_long.dropna(subset=['value'])\n",
    "Stheme_long.head()\n"
   ]
  },
  {
   "cell_type": "code",
   "execution_count": 7,
   "metadata": {
    "collapsed": false,
    "scrolled": false
   },
   "outputs": [],
   "source": [
    "# Create dataframe where to store the dictionary values\n",
    "ThemeDat = pd.DataFrame(columns=['Name','Code'])\n",
    "\n",
    "# Populate ThemeDat dataframe\n",
    "for (i,r) in Stheme_long.iterrows():\n",
    "    e = r['value']\n",
    "    ThemeDat.loc[i] = [e['name'], e['code']]\n"
   ]
  },
  {
   "cell_type": "code",
   "execution_count": 12,
   "metadata": {
    "collapsed": false,
    "scrolled": false
   },
   "outputs": [],
   "source": [
    "# fill empty str as nan\n",
    "ThemeDat = ThemeDat.apply(lambda x: x.str.strip()).replace('', np.nan)\n",
    "# sort Code\n",
    "ThemeDat = ThemeDat.sort_values('Code')\n",
    "#ThemeDat.head()"
   ]
  },
  {
   "cell_type": "code",
   "execution_count": 10,
   "metadata": {
    "collapsed": false,
    "scrolled": false
   },
   "outputs": [
    {
     "name": "stdout",
     "output_type": "stream",
     "text": [
      "Name    False\n",
      "Code    False\n",
      "dtype: bool\n"
     ]
    }
   ],
   "source": [
    "# make a column of first values for each group\n",
    "x = ThemeDat['Code'].map(ThemeDat.groupby('Code')['Name'].first())\n",
    "\n",
    "# fill only NaN values using new column x\n",
    "ThemeDat['Name'] = ThemeDat['Name'].fillna(x)\n",
    "\n",
    "print(ThemeDat.isnull().any())\n",
    "\n",
    "#ThemeDat.head()\n"
   ]
  },
  {
   "cell_type": "code",
   "execution_count": 11,
   "metadata": {
    "collapsed": false,
    "scrolled": false
   },
   "outputs": [
    {
     "data": {
      "text/plain": [
       "Name\n",
       "Environment and natural resources management    250\n",
       "Rural development                               216\n",
       "Human development                               210\n",
       "Public sector governance                        199\n",
       "Social protection and risk management           168\n",
       "Financial and private sector development        146\n",
       "Social dev/gender/inclusion                     130\n",
       "Trade and integration                            77\n",
       "Urban development                                50\n",
       "Economic management                              38\n",
       "Name: Code, dtype: int64"
      ]
     },
     "execution_count": 11,
     "metadata": {},
     "output_type": "execute_result"
    }
   ],
   "source": [
    "ThemeDatSum = ThemeDat.groupby('Name')['Code'].count()\n",
    "\n",
    "# get most 10 themes\n",
    "ThemeDatSum.sort_values(ascending=False).head(10)\n"
   ]
  },
  {
   "cell_type": "code",
   "execution_count": null,
   "metadata": {
    "collapsed": true,
    "scrolled": false
   },
   "outputs": [],
   "source": []
  },
  {
   "cell_type": "code",
   "execution_count": null,
   "metadata": {
    "collapsed": true,
    "scrolled": false
   },
   "outputs": [],
   "source": []
  },
  {
   "cell_type": "code",
   "execution_count": null,
   "metadata": {
    "collapsed": true,
    "scrolled": false
   },
   "outputs": [],
   "source": []
  }
 ],
 "metadata": {
  "anaconda-cloud": {},
  "kernelspec": {
   "display_name": "Python [Root]",
   "language": "python",
   "name": "Python [Root]"
  },
  "language_info": {
   "codemirror_mode": {
    "name": "ipython",
    "version": 3
   },
   "file_extension": ".py",
   "mimetype": "text/x-python",
   "name": "python",
   "nbconvert_exporter": "python",
   "pygments_lexer": "ipython3",
   "version": "3.5.2"
  }
 },
 "nbformat": 4,
 "nbformat_minor": 0
}
